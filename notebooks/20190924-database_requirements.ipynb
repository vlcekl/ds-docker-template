{
 "cells": [
  {
   "cell_type": "code",
   "execution_count": 18,
   "metadata": {},
   "outputs": [],
   "source": [
    "import os\n",
    "import random\n",
    "import numpy as np\n",
    "import pandas as pd"
   ]
  },
  {
   "cell_type": "code",
   "execution_count": 3,
   "metadata": {},
   "outputs": [],
   "source": [
    "os.chdir('/home/jovyan')"
   ]
  },
  {
   "cell_type": "code",
   "execution_count": null,
   "metadata": {},
   "outputs": [],
   "source": [
    "!mkdir data"
   ]
  },
  {
   "cell_type": "code",
   "execution_count": null,
   "metadata": {},
   "outputs": [],
   "source": [
    "!wget -P data http://archive.ics.uci.edu/ml/machine-learning-databases/adult/adult.names"
   ]
  },
  {
   "cell_type": "code",
   "execution_count": null,
   "metadata": {},
   "outputs": [],
   "source": [
    "## Adult data set\n",
    "\n",
    "| This data was extracted from the census bureau database found at\n",
    "| http://www.census.gov/ftp/pub/DES/www/welcome.html\n",
    "| Donor: Ronny Kohavi and Barry Becker,\n",
    "|        Data Mining and Visualization\n",
    "|        Silicon Graphics.\n",
    "|        e-mail: ronnyk@sgi.com for questions.\n",
    "| Split into train-test using MLC++ GenCVFiles (2/3, 1/3 random).\n",
    "| 48842 instances, mix of continuous and discrete    (train=32561, test=16281)\n",
    "| 45222 if instances with unknown values are removed (train=30162, test=15060)\n",
    "| Duplicate or conflicting instances : 6\n",
    "| Class probabilities for adult.all file\n",
    "| Probability for the label '>50K'  : 23.93% / 24.78% (without unknowns)\n",
    "| Probability for the label '<=50K' : 76.07% / 75.22% (without unknowns)\n",
    "|\n",
    "| Extraction was done by Barry Becker from the 1994 Census database.  A set of\n",
    "|   reasonably clean records was extracted using the following conditions:\n",
    "|   ((AAGE>16) && (AGI>100) && (AFNLWGT>1)&& (HRSWK>0))\n",
    "|\n",
    "| Prediction task is to determine whether a person makes over 50K\n",
    "| a year.\n",
    "|\n",
    "| First cited in:\n",
    "| @inproceedings{kohavi-nbtree,\n",
    "|    author={Ron Kohavi},\n",
    "|    title={Scaling Up the Accuracy of Naive-Bayes Classifiers: a\n",
    "|           Decision-Tree Hybrid},\n",
    "|    booktitle={Proceedings of the Second International Conference on\n",
    "|               Knowledge Discovery and Data Mining},\n",
    "|    year = 1996,\n",
    "|    pages={to appear}}\n",
    "|\n",
    "| Error Accuracy reported as follows, after removal of unknowns from\n",
    "|    train/test sets):\n",
    "|    C4.5       : 84.46+-0.30\n",
    "|    Naive-Bayes: 83.88+-0.30\n",
    "|    NBTree     : 85.90+-0.28\n",
    "|\n",
    "|\n",
    "| Following algorithms were later run with the following error rates,\n",
    "|    all after removal of unknowns and using the original train/test split.\n",
    "|    All these numbers are straight runs using MLC++ with default values.\n",
    "|\n",
    "|    Algorithm               Error\n",
    "| -- ----------------        -----\n",
    "| 1  C4.5                    15.54\n",
    "| 2  C4.5-auto               14.46\n",
    "| 3  C4.5 rules              14.94\n",
    "| 4  Voted ID3 (0.6)         15.64\n",
    "| 5  Voted ID3 (0.8)         16.47\n",
    "| 6  T2                      16.84\n",
    "| 7  1R                      19.54\n",
    "| 8  NBTree                  14.10\n",
    "| 9  CN2                     16.00\n",
    "| 10 HOODG                   14.82\n",
    "| 11 FSS Naive Bayes         14.05\n",
    "| 12 IDTM (Decision table)   14.46\n",
    "| 13 Naive-Bayes             16.12\n",
    "| 14 Nearest-neighbor (1)    21.42\n",
    "| 15 Nearest-neighbor (3)    20.35\n",
    "| 16 OC1                     15.04\n",
    "| 17 Pebls                   Crashed.  Unknown why (bounds WERE increased)\n",
    "|\n",
    "| Conversion of original data as follows:\n",
    "| 1. Discretized agrossincome into two ranges with threshold 50,000.\n",
    "| 2. Convert U.S. to US to avoid periods.\n",
    "| 3. Convert Unknown to \"?\"\n",
    "| 4. Run MLC++ GenCVFiles to generate data,test.\n",
    "|\n",
    "| Description of fnlwgt (final weight)\n",
    "|\n",
    "| The weights on the CPS files are controlled to independent estimates of the\n",
    "| civilian noninstitutional population of the US.  These are prepared monthly\n",
    "| for us by Population Division here at the Census Bureau.  We use 3 sets of\n",
    "| controls.\n",
    "|  These are:\n",
    "|          1.  A single cell estimate of the population 16+ for each state.\n",
    "|          2.  Controls for Hispanic Origin by age and sex.\n",
    "|          3.  Controls by Race, age and sex.\n",
    "|\n",
    "| We use all three sets of controls in our weighting program and \"rake\" through\n",
    "| them 6 times so that by the end we come back to all the controls we used.\n",
    "|\n",
    "| The term estimate refers to population totals derived from CPS by creating\n",
    "| \"weighted tallies\" of any specified socio-economic characteristics of the\n",
    "| population.\n",
    "|\n",
    "| People with similar demographic characteristics should have\n",
    "| similar weights.  There is one important caveat to remember\n",
    "| about this statement.  That is that since the CPS sample is\n",
    "| actually a collection of 51 state samples, each with its own\n",
    "| probability of selection, the statement only applies within\n",
    "| state.\n",
    "\n",
    "\n",
    ">50K, <=50K.\n",
    "\n",
    "age: continuous.\n",
    "workclass: Private, Self-emp-not-inc, Self-emp-inc, Federal-gov, Local-gov, State-gov, Without-pay, Never-worked.\n",
    "fnlwgt: continuous.\n",
    "education: Bachelors, Some-college, 11th, HS-grad, Prof-school, Assoc-acdm, Assoc-voc, 9th, 7th-8th, 12th, Masters, 1st-4th, 10th, Doctorate, 5th-6th, Preschool.\n",
    "education-num: continuous.\n",
    "marital-status: Married-civ-spouse, Divorced, Never-married, Separated, Widowed, Married-spouse-absent, Married-AF-spouse.\n",
    "occupation: Tech-support, Craft-repair, Other-service, Sales, Exec-managerial, Prof-specialty, Handlers-cleaners, Machine-op-inspct, Adm-clerical, Farming-fishing, Transport-moving, Priv-house-serv, Protective-serv, Armed-Forces.\n",
    "relationship: Wife, Own-child, Husband, Not-in-family, Other-relative, Unmarried.\n",
    "race: White, Asian-Pac-Islander, Amer-Indian-Eskimo, Other, Black.\n",
    "sex: Female, Male.\n",
    "capital-gain: continuous.\n",
    "capital-loss: continuous.\n",
    "hours-per-week: continuous.\n",
    "native-country: United-States, Cambodia, England, Puerto-Rico, Canada, Germany, Outlying-US(Guam-USVI-etc), India, Japan, Greece, South, China, Cuba, Iran, Honduras, Philippines, Italy, Poland, Jamaica, Vietnam, Mexico, Portugal, Ireland, France, Dominican-Republic, Laos, Ecuador, Taiwan, Haiti, Columbia, Hungary, Guatemala, Nicaragua, Scotland, Thailand, Yugoslavia, El-Salvador, Trinadad&Tobago, Peru, Hong, Holand-Netherlands.\n",
    "    "
   ]
  },
  {
   "cell_type": "code",
   "execution_count": 7,
   "metadata": {},
   "outputs": [
    {
     "name": "stdout",
     "output_type": "stream",
     "text": [
      "--2019-09-24 16:56:58--  http://archive.ics.uci.edu/ml/machine-learning-databases/adult/adult.data\n",
      "Resolving archive.ics.uci.edu (archive.ics.uci.edu)... 128.195.10.252\n",
      "Connecting to archive.ics.uci.edu (archive.ics.uci.edu)|128.195.10.252|:80... connected.\n",
      "HTTP request sent, awaiting response... 200 OK\n",
      "Length: 3974305 (3.8M) [application/x-httpd-php]\n",
      "Saving to: ‘data/adult.data’\n",
      "\n",
      "adult.data          100%[===================>]   3.79M  1.75MB/s    in 2.2s    \n",
      "\n",
      "2019-09-24 16:57:01 (1.75 MB/s) - ‘data/adult.data’ saved [3974305/3974305]\n",
      "\n"
     ]
    }
   ],
   "source": [
    "!wget -P data http://archive.ics.uci.edu/ml/machine-learning-databases/adult/adult.data"
   ]
  },
  {
   "cell_type": "code",
   "execution_count": 8,
   "metadata": {},
   "outputs": [
    {
     "name": "stdout",
     "output_type": "stream",
     "text": [
      "  32562  488415 3974305 data/adult.data\r\n"
     ]
    }
   ],
   "source": [
    "!wc data/adult.data"
   ]
  },
  {
   "cell_type": "code",
   "execution_count": 9,
   "metadata": {},
   "outputs": [
    {
     "name": "stdout",
     "output_type": "stream",
     "text": [
      "39, State-gov, 77516, Bachelors, 13, Never-married, Adm-clerical, Not-in-family, White, Male, 2174, 0, 40, United-States, <=50K\r\n",
      "50, Self-emp-not-inc, 83311, Bachelors, 13, Married-civ-spouse, Exec-managerial, Husband, White, Male, 0, 0, 13, United-States, <=50K\r\n"
     ]
    }
   ],
   "source": [
    "!head -n2 data/adult.data"
   ]
  },
  {
   "cell_type": "code",
   "execution_count": 15,
   "metadata": {},
   "outputs": [],
   "source": [
    "number_of_rows = 32562\n",
    "sample_size = 3300\n",
    "rows_to_skip = random.sample(range(number_of_rows), number_of_rows - sample_size)"
   ]
  },
  {
   "cell_type": "code",
   "execution_count": 19,
   "metadata": {},
   "outputs": [],
   "source": [
    "adult_df = pd.read_csv('data/adult.data', header=None, skiprows=rows_to_skip)"
   ]
  },
  {
   "cell_type": "code",
   "execution_count": 20,
   "metadata": {},
   "outputs": [],
   "source": [
    "adult_df.columns = ['age',\n",
    "                    'workclas',\n",
    "                    'fnlwgt',\n",
    "                    'education',\n",
    "                    'eduation_num',\n",
    "                    'marital_status',\n",
    "                    'occupation',\n",
    "                    'relationship',\n",
    "                    'race',\n",
    "                    'gender',\n",
    "                    'capital_gain',\n",
    "                    'capital_loss',\n",
    "                    'hours_per_week',\n",
    "                    'native_country',\n",
    "                    'income_label'\n",
    "                   ]"
   ]
  },
  {
   "cell_type": "code",
   "execution_count": 23,
   "metadata": {},
   "outputs": [
    {
     "data": {
      "text/html": [
       "<div>\n",
       "<style scoped>\n",
       "    .dataframe tbody tr th:only-of-type {\n",
       "        vertical-align: middle;\n",
       "    }\n",
       "\n",
       "    .dataframe tbody tr th {\n",
       "        vertical-align: top;\n",
       "    }\n",
       "\n",
       "    .dataframe thead th {\n",
       "        text-align: right;\n",
       "    }\n",
       "</style>\n",
       "<table border=\"1\" class=\"dataframe\">\n",
       "  <thead>\n",
       "    <tr style=\"text-align: right;\">\n",
       "      <th></th>\n",
       "      <th>age</th>\n",
       "      <th>workclas</th>\n",
       "      <th>fnlwgt</th>\n",
       "      <th>education</th>\n",
       "      <th>eduation_num</th>\n",
       "      <th>marital_status</th>\n",
       "      <th>occupation</th>\n",
       "      <th>relationship</th>\n",
       "      <th>race</th>\n",
       "      <th>gender</th>\n",
       "      <th>capital_gain</th>\n",
       "      <th>capital_loss</th>\n",
       "      <th>hours_per_week</th>\n",
       "      <th>native_country</th>\n",
       "      <th>income_label</th>\n",
       "    </tr>\n",
       "  </thead>\n",
       "  <tbody>\n",
       "    <tr>\n",
       "      <td>1411</td>\n",
       "      <td>24</td>\n",
       "      <td>Private</td>\n",
       "      <td>267843</td>\n",
       "      <td>Bachelors</td>\n",
       "      <td>13</td>\n",
       "      <td>Never-married</td>\n",
       "      <td>Prof-specialty</td>\n",
       "      <td>Own-child</td>\n",
       "      <td>Black</td>\n",
       "      <td>Female</td>\n",
       "      <td>0</td>\n",
       "      <td>0</td>\n",
       "      <td>35</td>\n",
       "      <td>United-States</td>\n",
       "      <td>&lt;=50K</td>\n",
       "    </tr>\n",
       "    <tr>\n",
       "      <td>2008</td>\n",
       "      <td>62</td>\n",
       "      <td>Self-emp-not-inc</td>\n",
       "      <td>158712</td>\n",
       "      <td>HS-grad</td>\n",
       "      <td>9</td>\n",
       "      <td>Never-married</td>\n",
       "      <td>Other-service</td>\n",
       "      <td>Unmarried</td>\n",
       "      <td>White</td>\n",
       "      <td>Female</td>\n",
       "      <td>0</td>\n",
       "      <td>0</td>\n",
       "      <td>6</td>\n",
       "      <td>United-States</td>\n",
       "      <td>&lt;=50K</td>\n",
       "    </tr>\n",
       "    <tr>\n",
       "      <td>1226</td>\n",
       "      <td>35</td>\n",
       "      <td>Private</td>\n",
       "      <td>314897</td>\n",
       "      <td>7th-8th</td>\n",
       "      <td>4</td>\n",
       "      <td>Married-civ-spouse</td>\n",
       "      <td>Craft-repair</td>\n",
       "      <td>Husband</td>\n",
       "      <td>White</td>\n",
       "      <td>Male</td>\n",
       "      <td>0</td>\n",
       "      <td>0</td>\n",
       "      <td>40</td>\n",
       "      <td>Puerto-Rico</td>\n",
       "      <td>&lt;=50K</td>\n",
       "    </tr>\n",
       "  </tbody>\n",
       "</table>\n",
       "</div>"
      ],
      "text/plain": [
       "      age           workclas  fnlwgt   education  eduation_num  \\\n",
       "1411   24            Private  267843   Bachelors            13   \n",
       "2008   62   Self-emp-not-inc  158712     HS-grad             9   \n",
       "1226   35            Private  314897     7th-8th             4   \n",
       "\n",
       "           marital_status       occupation relationship    race   gender  \\\n",
       "1411        Never-married   Prof-specialty    Own-child   Black   Female   \n",
       "2008        Never-married    Other-service    Unmarried   White   Female   \n",
       "1226   Married-civ-spouse     Craft-repair      Husband   White     Male   \n",
       "\n",
       "      capital_gain  capital_loss  hours_per_week  native_country income_label  \n",
       "1411             0             0              35   United-States        <=50K  \n",
       "2008             0             0               6   United-States        <=50K  \n",
       "1226             0             0              40     Puerto-Rico        <=50K  "
      ]
     },
     "execution_count": 23,
     "metadata": {},
     "output_type": "execute_result"
    }
   ],
   "source": [
    "adult_df.sample(3)"
   ]
  },
  {
   "cell_type": "code",
   "execution_count": null,
   "metadata": {},
   "outputs": [],
   "source": [
    "age: continuous.\n",
    "workclass: Private, Self-emp-not-inc, Self-emp-inc, Federal-gov, Local-gov, State-gov, Without-pay, Never-worked.\n",
    "fnlwgt: continuous.\n",
    "education: Bachelors, Some-college, 11th, HS-grad, Prof-school, Assoc-acdm, Assoc-voc, 9th, 7th-8th, 12th, Masters, 1st-4th, 10th, Doctorate, 5th-6th, Preschool.\n",
    "education-num: continuous.\n",
    "marital-status: Married-civ-spouse, Divorced, Never-married, Separated, Widowed, Married-spouse-absent, Married-AF-spouse.\n",
    "occupation: Tech-support, Craft-repair, Other-service, Sales, Exec-managerial, Prof-specialty, Handlers-cleaners, Machine-op-inspct, Adm-clerical, Farming-fishing, Transport-moving, Priv-house-serv, Protective-serv, Armed-Forces.\n",
    "relationship: Wife, Own-child, Husband, Not-in-family, Other-relative, Unmarried.\n",
    "race: White, Asian-Pac-Islander, Amer-Indian-Eskimo, Other, Black.\n",
    "sex: Female, Male.\n",
    "capital-gain: continuous.\n",
    "capital-loss: continuous.\n",
    "hours-per-week: continuous.\n",
    "native-country: United-States, Cambodia, England, Puerto-Rico, Canada, Germany, Outlying-US(Guam-USVI-etc), India, Japan, Greece, South, China, Cuba, Iran, Honduras, Philippines, Italy, Poland, Jamaica, Vietnam, Mexico, Portugal, Ireland, France, Dominican-Republic, Laos, Ecuador, Taiwan, Haiti, Columbia, Hungary, Guatemala, Nicaragua, Scotland, Thailand, Yugoslavia, El-Salvador, Trinadad&Tobago, Peru, Hong, Holand-Netherlands.\n",
    "  "
   ]
  },
  {
   "cell_type": "code",
   "execution_count": 25,
   "metadata": {},
   "outputs": [
    {
     "data": {
      "text/plain": [
       "age                int64\n",
       "workclas          object\n",
       "fnlwgt             int64\n",
       "education         object\n",
       "eduation_num       int64\n",
       "marital_status    object\n",
       "occupation        object\n",
       "relationship      object\n",
       "race              object\n",
       "gender            object\n",
       "capital_gain       int64\n",
       "capital_loss       int64\n",
       "hours_per_week     int64\n",
       "native_country    object\n",
       "income_label      object\n",
       "dtype: object"
      ]
     },
     "execution_count": 25,
     "metadata": {},
     "output_type": "execute_result"
    }
   ],
   "source": [
    "adult_df.dtypes"
   ]
  },
  {
   "cell_type": "code",
   "execution_count": null,
   "metadata": {},
   "outputs": [],
   "source": []
  }
 ],
 "metadata": {
  "kernelspec": {
   "display_name": "Python 3",
   "language": "python",
   "name": "python3"
  },
  "language_info": {
   "codemirror_mode": {
    "name": "ipython",
    "version": 3
   },
   "file_extension": ".py",
   "mimetype": "text/x-python",
   "name": "python",
   "nbconvert_exporter": "python",
   "pygments_lexer": "ipython3",
   "version": "3.7.3"
  }
 },
 "nbformat": 4,
 "nbformat_minor": 2
}
