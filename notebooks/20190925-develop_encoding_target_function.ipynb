{
 "cells": [
  {
   "cell_type": "code",
   "execution_count": 2,
   "metadata": {},
   "outputs": [],
   "source": [
    "import os\n",
    "os.chdir('/home/jovyan')"
   ]
  },
  {
   "cell_type": "code",
   "execution_count": 3,
   "metadata": {},
   "outputs": [],
   "source": [
    "from src.postgres import connect_to_postgres"
   ]
  },
  {
   "cell_type": "markdown",
   "metadata": {},
   "source": [
    "**adult data types**\n",
    "\n",
    "* age                int64\n",
    "* workclas          object\n",
    "* fnlwgt             int64\n",
    "* education         object\n",
    "* eduation_num       int64\n",
    "* marital_status    object\n",
    "* occupation        object\n",
    "* relationship      object\n",
    "* race              object\n",
    "* gender            object\n",
    "* capital_gain       int64\n",
    "* capital_loss       int64\n",
    "* hours_per_week     int64\n",
    "* native_country    object\n",
    "* income_label      object"
   ]
  },
  {
   "cell_type": "code",
   "execution_count": 4,
   "metadata": {},
   "outputs": [
    {
     "ename": "DuplicateColumn",
     "evalue": "column \"_id\" of relation \"adult\" already exists\n",
     "output_type": "error",
     "traceback": [
      "\u001b[0;31m---------------------------------------------------------------------------\u001b[0m",
      "\u001b[0;31mDuplicateColumn\u001b[0m                           Traceback (most recent call last)",
      "\u001b[0;32m<ipython-input-4-f76f03a7b56d>\u001b[0m in \u001b[0;36m<module>\u001b[0;34m\u001b[0m\n\u001b[1;32m      6\u001b[0m \u001b[0mALTER\u001b[0m \u001b[0mTABLE\u001b[0m \u001b[0madult\u001b[0m \u001b[0mADD\u001b[0m \u001b[0mCOLUMN\u001b[0m \u001b[0mtarget\u001b[0m \u001b[0mBOOLEAN\u001b[0m\u001b[0;34m;\u001b[0m\u001b[0;34m\u001b[0m\u001b[0;34m\u001b[0m\u001b[0m\n\u001b[1;32m      7\u001b[0m \u001b[0mCOMMIT\u001b[0m\u001b[0;34m;\u001b[0m\u001b[0;34m\u001b[0m\u001b[0;34m\u001b[0m\u001b[0m\n\u001b[0;32m----> 8\u001b[0;31m \"\"\")\n\u001b[0m\u001b[1;32m      9\u001b[0m \u001b[0;34m\u001b[0m\u001b[0m\n\u001b[1;32m     10\u001b[0m \u001b[0mcon\u001b[0m\u001b[0;34m.\u001b[0m\u001b[0mclose\u001b[0m\u001b[0;34m(\u001b[0m\u001b[0;34m)\u001b[0m\u001b[0;34m\u001b[0m\u001b[0;34m\u001b[0m\u001b[0m\n",
      "\u001b[0;31mDuplicateColumn\u001b[0m: column \"_id\" of relation \"adult\" already exists\n"
     ]
    }
   ],
   "source": [
    "con, cur = connect_to_postgres()\n",
    "\n",
    "cur.execute(\"\"\"\n",
    "BEGIN;\n",
    "ALTER TABLE adult ADD COLUMN _id SERIAL PRIMARY KEY;\n",
    "ALTER TABLE adult ADD COLUMN target BOOLEAN;\n",
    "COMMIT;\n",
    "\"\"\")\n",
    "\n",
    "con.close()"
   ]
  },
  {
   "cell_type": "code",
   "execution_count": 41,
   "metadata": {},
   "outputs": [
    {
     "name": "stdout",
     "output_type": "stream",
     "text": [
      "[(' >50K',), (' >50K',), (' >50K',), (' <=50K',), (' <=50K',)]\n"
     ]
    }
   ],
   "source": [
    "con, cur = connect_to_postgres()\n",
    "\n",
    "cur.execute(\"\"\"\n",
    "SELECT income_label FROM adult LIMIT 5;\n",
    "\"\"\")\n",
    "\n",
    "print(cur.fetchall())\n",
    "con.close()"
   ]
  },
  {
   "cell_type": "code",
   "execution_count": 37,
   "metadata": {},
   "outputs": [
    {
     "name": "stdout",
     "output_type": "stream",
     "text": [
      "True\n"
     ]
    }
   ],
   "source": [
    "con, cur = connect_to_postgres()\n",
    "\n",
    "cur.execute(\"\"\"\n",
    "SELECT _id, income_label FROM adult WHERE target IS NULL;\n",
    "\"\"\")\n",
    "\n",
    "this_id, income_label = cur.fetchone()\n",
    "greater_than_50k = (income_label == ' >50K')\n",
    "\n",
    "cur.execute(\"\"\"\n",
    "BEGIN;\n",
    "UPDATE adult\n",
    "SET target = {}\n",
    "WHERE _id = {};\n",
    "COMMIT;\n",
    "\"\"\".format(greater_than_50k, this_id))\n",
    "\n",
    "con.close()"
   ]
  },
  {
   "cell_type": "code",
   "execution_count": 38,
   "metadata": {},
   "outputs": [
    {
     "name": "stdout",
     "output_type": "stream",
     "text": [
      "9 (9, ' >50K', True)\n"
     ]
    }
   ],
   "source": [
    "con, cur = connect_to_postgres()\n",
    "\n",
    "cur.execute(\"\"\"\n",
    "SELECT _id, income_label, target FROM adult WHERE _id = {};\n",
    "\"\"\".format(this_id))\n",
    "print(this_id, cur.fetchone())\n",
    "con.close()"
   ]
  },
  {
   "cell_type": "code",
   "execution_count": 39,
   "metadata": {},
   "outputs": [
    {
     "data": {
      "text/plain": [
       "9"
      ]
     },
     "execution_count": 39,
     "metadata": {},
     "output_type": "execute_result"
    }
   ],
   "source": [
    "this_id"
   ]
  },
  {
   "cell_type": "code",
   "execution_count": 40,
   "metadata": {},
   "outputs": [
    {
     "name": "stdout",
     "output_type": "stream",
     "text": [
      "[(1, False), (3, False), (4, False), (5, False), (6, False), (7, False), (8, False), (9, True), (2, False)]\n"
     ]
    }
   ],
   "source": [
    "con, cur = connect_to_postgres()\n",
    "\n",
    "cur.execute(\"\"\"\n",
    "SELECT _id, target FROM adult WHERE target IS NOT NULL;\n",
    "\"\"\")\n",
    "\n",
    "print(cur.fetchall())\n",
    "con.close()"
   ]
  },
  {
   "cell_type": "code",
   "execution_count": 43,
   "metadata": {},
   "outputs": [],
   "source": [
    "def encode_target(_id):\n",
    "    \"\"\"Encode the target for a single row as a boolean value. Takes a row _id.\"\"\"\n",
    "    \n",
    "    con, cur = connect_to_postgres()\n",
    "    \n",
    "    cur.execute(\"\"\"SELECT _id, income_label FROM adult WHERE _id = {};\"\"\".format(_id))\n",
    "\n",
    "    this_id, income_label = cur.fetchone()\n",
    "    \n",
    "    assert this_id == _id\n",
    "    \n",
    "    greater_than_50k = (income_label == ' >50K')\n",
    "    \n",
    "    cur.execute(\"\"\"\n",
    "        BEGIN;\n",
    "        UPDATE adult\n",
    "        SET target = {}\n",
    "        WHERE _id = {};\n",
    "        COMMIT;\n",
    "    \"\"\".format(greater_than_50k, _id))\n",
    "\n",
    "    con.close()"
   ]
  },
  {
   "cell_type": "code",
   "execution_count": 44,
   "metadata": {},
   "outputs": [],
   "source": [
    "encode_target(5)"
   ]
  },
  {
   "cell_type": "code",
   "execution_count": null,
   "metadata": {},
   "outputs": [],
   "source": []
  }
 ],
 "metadata": {
  "kernelspec": {
   "display_name": "Python 3",
   "language": "python",
   "name": "python3"
  },
  "language_info": {
   "codemirror_mode": {
    "name": "ipython",
    "version": 3
   },
   "file_extension": ".py",
   "mimetype": "text/x-python",
   "name": "python",
   "nbconvert_exporter": "python",
   "pygments_lexer": "ipython3",
   "version": "3.7.3"
  }
 },
 "nbformat": 4,
 "nbformat_minor": 2
}
